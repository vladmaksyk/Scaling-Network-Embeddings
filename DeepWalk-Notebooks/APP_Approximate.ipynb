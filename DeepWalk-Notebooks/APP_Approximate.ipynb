{
 "cells": [
  {
   "cell_type": "code",
   "execution_count": 1,
   "metadata": {},
   "outputs": [],
   "source": [
    "import networkx as nx\n",
    "import numpy as np\n",
    "import matplotlib.pyplot as plt\n",
    "import random\n",
    "import pandas as pd\n",
    "import math \n",
    "import time"
   ]
  },
  {
   "cell_type": "code",
   "execution_count": 2,
   "metadata": {},
   "outputs": [],
   "source": [
    "#set the parameters \n",
    "NUM_RANDOM_WALKS = 80\n",
    "EPSILON = 0.15"
   ]
  },
  {
   "cell_type": "code",
   "execution_count": 29,
   "metadata": {},
   "outputs": [],
   "source": [
    "filepath = \"input/BlogCatalog-edgelist.txt\"\n",
    "filepath_Youtube = \"input/youtube.txt\"\n",
    "\n",
    "embeddingsiterative = \"output/BlogCatalog-edgelist.txt.embeddings-iterative\""
   ]
  },
  {
   "cell_type": "code",
   "execution_count": 4,
   "metadata": {},
   "outputs": [],
   "source": [
    "def parseEdgeList(graph_file, delimiter=\" \", weighted=False, direction=\"undirected\"):\n",
    "    if(weighted == False):\n",
    "        G = nx.read_edgelist(graph_file, delimiter=delimiter)\n",
    "    else:\n",
    "        G = nx.read_edgelist(graph_file, delimiter=delimiter, nodetype=int, data=(('weight',float),))\n",
    "    print(G.number_of_nodes(), G.number_of_edges(), \" loaded from \", graph_file)\n",
    "    if(direction == \"undirected\"):\n",
    "        return G.to_undirected()\n",
    "    else:\n",
    "        return G"
   ]
  },
  {
   "cell_type": "code",
   "execution_count": 5,
   "metadata": {},
   "outputs": [],
   "source": [
    "def getAdjNPList(graph):\n",
    "    adjdict = {}\n",
    "    for vertex in graph:\n",
    "        adjdict[vertex] = np.array([n for n in G.neighbors(vertex)]) \n",
    "        np.random.shuffle(adjdict[vertex])\n",
    "    return adjdict\n",
    "\n",
    "def getNodeContextSets(graph):\n",
    "    all_sets = {}\n",
    "    for node in graph:\n",
    "        all_sets[node] = []\n",
    "    return all_sets"
   ]
  },
  {
   "cell_type": "code",
   "execution_count": 30,
   "metadata": {},
   "outputs": [
    {
     "name": "stdout",
     "output_type": "stream",
     "text": [
      "1134890 2987624  loaded from  input/youtube.txt\n"
     ]
    }
   ],
   "source": [
    "#G = parseEdgeList(filepath)\n",
    "G = parseEdgeList(filepath_Youtube)"
   ]
  },
  {
   "cell_type": "code",
   "execution_count": 7,
   "metadata": {},
   "outputs": [],
   "source": [
    "# G = nx.Graph()\n",
    "# #Small example\n",
    "# G.add_nodes_from([\"A\",\"B\",\"C\",\"D\",\"E\",\"F\",\"G\",\"H\",\"I\",\"J\",\"K\",\"L\"])\n",
    "# # G.add_nodes_from([\"A\",\"B\",\"C\",\"D\",\"E\"])\n",
    "# G.add_edge(\"A\", \"D\"),G.add_edge(\"A\", \"E\"),G.add_edge(\"A\", \"I\"),G.add_edge(\"A\", \"K\")\n",
    "# G.add_edge(\"B\", \"D\"),G.add_edge(\"B\", \"C\"),G.add_edge(\"B\", \"L\"),G.add_edge(\"B\", \"K\")\n",
    "# G.add_edge(\"C\", \"D\"),G.add_edge(\"D\", \"H\"),G.add_edge(\"D\", \"G\"),G.add_edge(\"D\", \"E\")\n",
    "# G.add_edge(\"E\", \"F\"),G.add_edge(\"F\", \"G\"),G.add_edge(\"I\", \"E\"),G.add_edge(\"I\", \"J\"),G.add_edge(\"K\", \"L\")\n",
    "# # Draw graph\n",
    "# nx.draw(G, with_labels = True)\n",
    "# plt.show()"
   ]
  },
  {
   "cell_type": "code",
   "execution_count": 8,
   "metadata": {},
   "outputs": [],
   "source": [
    "def getPerNodeBudget(numNodes, budget):\n",
    "    return math.floor(budget/numNodes)"
   ]
  },
  {
   "cell_type": "code",
   "execution_count": 9,
   "metadata": {},
   "outputs": [],
   "source": [
    "def updateSetCount(curent_node, context_pair, context_budget):\n",
    "    for i in range(0, context_budget):\n",
    "        all_sets[curent_node].append(context_pair)"
   ]
  },
  {
   "cell_type": "code",
   "execution_count": 10,
   "metadata": {},
   "outputs": [],
   "source": [
    "def countSum(contextPairs):\n",
    "    countSum = 0\n",
    "    for key, value in contextPairs.items():\n",
    "        countSum += value\n",
    "    print(\"Total value sums up to: \", countSum)"
   ]
  },
  {
   "cell_type": "code",
   "execution_count": 11,
   "metadata": {},
   "outputs": [],
   "source": [
    "def countListSum(all_sets):\n",
    "    countSum = 0\n",
    "    for key, value in all_sets.items():\n",
    "        countSum += len(value)\n",
    "    print(\"Total value sums up to: \", countSum)"
   ]
  },
  {
   "cell_type": "code",
   "execution_count": 12,
   "metadata": {},
   "outputs": [],
   "source": [
    "def WriteToFile(file):\n",
    "    femb_iterative = open(file, 'w')\n",
    "    for (key, value) in context_pairs.items():\n",
    "        femb_iterative.write(key + \" \" + str(value) + \"\\n\" )\n",
    "    femb_iterative.close()"
   ]
  },
  {
   "cell_type": "code",
   "execution_count": 13,
   "metadata": {},
   "outputs": [],
   "source": [
    "def chooseNodes(list_nodes, n):\n",
    "    return random.sample(population=list_nodes, k=n)"
   ]
  },
  {
   "cell_type": "code",
   "execution_count": 14,
   "metadata": {},
   "outputs": [],
   "source": [
    "def updateContextPairs(context_pair, num_rand_walks_ending_here, context_pairs):\n",
    "    if context_pair not in context_pairs:\n",
    "        context_pairs[context_pair] = num_rand_walks_ending_here\n",
    "    else:\n",
    "        context_pairs[context_pair] = context_pairs[context_pair] +  num_rand_walks_ending_here"
   ]
  },
  {
   "cell_type": "code",
   "execution_count": 31,
   "metadata": {},
   "outputs": [],
   "source": [
    "def BFSRandomWalk(graph, startvertex, queue, context_pairs):\n",
    "    while queue:\n",
    "        vertex, budget = queue.pop(0)  \n",
    "        \n",
    "        if all_sets[vertex] and vertex != startvertex:\n",
    "            current_amount_of_cp = len(all_sets[startvertex])\n",
    "            needed_amount_cp = len(all_sets[\"1\"])\n",
    "            cp_to_sample = needed_amount_cp - current_amount_of_cp\n",
    "            sampled_cp = random.sample(all_sets[vertex], cp_to_sample)\n",
    "            all_sets[startvertex].extend(sampled_cp)\n",
    "            break\n",
    "              \n",
    "        vertex_neighbors = [n for n in G.neighbors(vertex)]\n",
    "        num_neighbors = len(vertex_neighbors)\n",
    "        m = getPerNodeBudget(num_neighbors, budget)\n",
    "        remainder = budget - (m * num_neighbors)\n",
    "        chosen_nodes = []\n",
    "        if remainder > 0:\n",
    "            chosen_nodes = chooseNodes(vertex_neighbors, remainder)\n",
    "        for neighbor in vertex_neighbors:\n",
    "            budget_for_this_node = m \n",
    "            if neighbor in chosen_nodes:\n",
    "                budget_for_this_node = budget_for_this_node + 1\n",
    "            num_rand_walks_ending_here =  math.floor(budget_for_this_node * EPSILON) \n",
    "            context_pair = str(startvertex) + \" \" + str(neighbor)\n",
    "            #print(\"context_pair ->\", context_pair)\n",
    "            if(num_rand_walks_ending_here > 0):\n",
    "                #updateContextPairs(context_pair, num_rand_walks_ending_here, context_pairs)\n",
    "                updateSetCount(startvertex, context_pair, num_rand_walks_ending_here )\n",
    "            remaining_budget = budget_for_this_node - num_rand_walks_ending_here\n",
    "            if remaining_budget > 0:\n",
    "                if remaining_budget > 1:\n",
    "                    queue.append((neighbor, remaining_budget))\n",
    "                else:\n",
    "                    randval = random.random()\n",
    "                    if randval < EPSILON:\n",
    "                        queue.append((neighbor, remaining_budget))\n",
    "                    else:\n",
    "                        #updateContextPairs(context_pair, 1, context_pairs)\n",
    "                        updateSetCount(startvertex, context_pair, 1)"
   ]
  },
  {
   "cell_type": "code",
   "execution_count": 32,
   "metadata": {
    "scrolled": false
   },
   "outputs": [
    {
     "name": "stdout",
     "output_type": "stream",
     "text": [
      "Running BFS...\n",
      "Total value sums up to:  90791200\n",
      "Run in : 100.54623460769653\n"
     ]
    }
   ],
   "source": [
    "adjdict = getAdjNPList(G)\n",
    "all_sets = getNodeContextSets(G)\n",
    "\n",
    "start = time.time()\n",
    "context_pairs = {}\n",
    "print(\"Running BFS...\")\n",
    "for startvertex in adjdict:\n",
    "    queue = [(startvertex, NUM_RANDOM_WALKS)]\n",
    "    BFSRandomWalk(adjdict, startvertex, queue, context_pairs)\n",
    "countListSum(all_sets)\n",
    "WriteToFile(embeddingsiterative)\n",
    "\n",
    "end = time.time()\n",
    "result = end - start\n",
    "print(\"Run in :\",result) "
   ]
  },
  {
   "cell_type": "code",
   "execution_count": null,
   "metadata": {},
   "outputs": [],
   "source": [
    "print(all_sets)"
   ]
  },
  {
   "cell_type": "code",
   "execution_count": null,
   "metadata": {},
   "outputs": [],
   "source": []
  }
 ],
 "metadata": {
  "kernelspec": {
   "display_name": "Python 3",
   "language": "python",
   "name": "python3"
  },
  "language_info": {
   "codemirror_mode": {
    "name": "ipython",
    "version": 3
   },
   "file_extension": ".py",
   "mimetype": "text/x-python",
   "name": "python",
   "nbconvert_exporter": "python",
   "pygments_lexer": "ipython3",
   "version": "3.7.6"
  }
 },
 "nbformat": 4,
 "nbformat_minor": 1
}
