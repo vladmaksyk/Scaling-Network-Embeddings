{
 "cells": [
  {
   "cell_type": "code",
   "execution_count": 352,
   "metadata": {},
   "outputs": [],
   "source": [
    "import networkx as nx\n",
    "import numpy as np\n",
    "import matplotlib.pyplot as plt\n",
    "import random\n",
    "import pandas as pd\n",
    "import math \n"
   ]
  },
  {
   "cell_type": "code",
   "execution_count": 353,
   "metadata": {},
   "outputs": [],
   "source": [
    "#set the parameters \n",
    "NUM_RANDOM_WALKS = 80\n",
    "EPSILON = 0.15"
   ]
  },
  {
   "cell_type": "code",
   "execution_count": 354,
   "metadata": {},
   "outputs": [],
   "source": [
    "filepath = \"../edgelists/BlogCatalog-edgelist.txt\"\n",
    "embeddingsrecursive = \"../embeddings/BlogCatalog-edgelist.txt.embeddings-recursive\"\n",
    "embeddingsiterative = \"../embeddings/BlogCatalog-edgelist.txt.embeddings-iterative\""
   ]
  },
  {
   "cell_type": "code",
   "execution_count": 355,
   "metadata": {},
   "outputs": [],
   "source": [
    "def parseEdgeList(graph_file, delimiter=\" \", weighted=False, direction=\"undirected\"):\n",
    "    if(weighted == False):\n",
    "        G = nx.read_edgelist(graph_file, delimiter=delimiter)\n",
    "    else:\n",
    "        G = nx.read_edgelist(graph_file, delimiter=delimiter, nodetype=int, data=(('weight',float),))\n",
    "    print(G.number_of_nodes(), G.number_of_edges(), \" loaded from \", graph_file)\n",
    "    if(direction == \"undirected\"):\n",
    "        return G.to_undirected()\n",
    "    else:\n",
    "        return G"
   ]
  },
  {
   "cell_type": "code",
   "execution_count": 356,
   "metadata": {},
   "outputs": [
    {
     "name": "stdout",
     "output_type": "stream",
     "text": [
      "10312 333983  loaded from  ../edgelists/BlogCatalog-edgelist.txt\n"
     ]
    }
   ],
   "source": [
    "G = parseEdgeList(filepath)"
   ]
  },
  {
   "cell_type": "code",
   "execution_count": 357,
   "metadata": {},
   "outputs": [],
   "source": [
    "femb_recursive = open(embeddingsrecursive, 'w')\n",
    "femb_iterative = open(embeddingsiterative, 'w')"
   ]
  },
  {
   "cell_type": "code",
   "execution_count": 358,
   "metadata": {},
   "outputs": [],
   "source": [
    "# G = nx.Graph()\n",
    "# #Small example\n",
    "# G.add_nodes_from([\"A\",\"B\",\"C\",\"D\",\"E\",\"F\",\"G\",\"H\",\"I\",\"J\",\"K\",\"L\"])\n",
    "# # G.add_nodes_from([\"A\",\"B\",\"C\",\"D\",\"E\"])\n",
    "# G.add_edge(\"A\", \"D\")\n",
    "# G.add_edge(\"A\", \"E\")\n",
    "# G.add_edge(\"A\", \"I\")\n",
    "# G.add_edge(\"A\", \"K\")\n",
    "\n",
    "# G.add_edge(\"B\", \"D\")\n",
    "# G.add_edge(\"B\", \"C\")\n",
    "# G.add_edge(\"B\", \"L\")\n",
    "# G.add_edge(\"B\", \"K\")\n",
    "\n",
    "# G.add_edge(\"C\", \"D\")\n",
    "\n",
    "# G.add_edge(\"D\", \"H\")\n",
    "# G.add_edge(\"D\", \"G\")\n",
    "# G.add_edge(\"D\", \"E\")\n",
    "\n",
    "# G.add_edge(\"E\", \"F\")\n",
    "\n",
    "# G.add_edge(\"F\", \"G\")\n",
    "\n",
    "# G.add_edge(\"I\", \"E\")\n",
    "# G.add_edge(\"I\", \"J\")\n",
    "\n",
    "# G.add_edge(\"K\", \"L\")\n",
    "\n",
    "\n",
    "\n",
    "\n",
    "# # Draw graph\n",
    "# nx.draw(G, with_labels = True)\n",
    "# plt.show()"
   ]
  },
  {
   "cell_type": "code",
   "execution_count": 359,
   "metadata": {},
   "outputs": [],
   "source": [
    "def getPerNodeBudget(numNodes, budget):\n",
    "    return math.floor(budget/numNodes)"
   ]
  },
  {
   "cell_type": "code",
   "execution_count": 360,
   "metadata": {},
   "outputs": [],
   "source": [
    "def chooseNodes(list_nodes, n):\n",
    "    return random.sample(population=list_nodes, k=n)"
   ]
  },
  {
   "cell_type": "code",
   "execution_count": 361,
   "metadata": {},
   "outputs": [],
   "source": [
    "def updateContextPairs(context_pair, num_rand_walks_ending_here, context_pairs):\n",
    "    if context_pair not in context_pairs:\n",
    "        context_pairs[context_pair] = num_rand_walks_ending_here\n",
    "    else:\n",
    "        context_pairs[context_pair] = context_pairs[context_pair] +  num_rand_walks_ending_here"
   ]
  },
  {
   "cell_type": "code",
   "execution_count": 362,
   "metadata": {},
   "outputs": [],
   "source": [
    "def BFSRandomWalk(graph, start, queue, context_pairs):\n",
    "    random.seed(1)\n",
    "    while queue:\n",
    "        vertex, budget = queue.pop(0)\n",
    "        vertex_neighbors = [n for n in G.neighbors(vertex)]\n",
    "        num_neighbors = len(vertex_neighbors)\n",
    "        m = getPerNodeBudget(num_neighbors, budget)\n",
    "        remainder = budget - (m * num_neighbors)\n",
    "        chosen_nodes = []\n",
    "        if remainder > 0:\n",
    "            chosen_nodes = chooseNodes(vertex_neighbors, remainder)\n",
    "        for neighbor in vertex_neighbors:\n",
    "            budget_for_this_node = m \n",
    "            if neighbor in chosen_nodes:\n",
    "                budget_for_this_node = budget_for_this_node + 1\n",
    "            num_rand_walks_ending_here =  math.floor(budget_for_this_node * EPSILON) \n",
    "            context_pair = str(start) + \" \" + str(neighbor)\n",
    "            if(num_rand_walks_ending_here > 0):\n",
    "                updateContextPairs(context_pair, num_rand_walks_ending_here, context_pairs)\n",
    "            remaining_budget = math.floor(budget_for_this_node * (1 - EPSILON))\n",
    "            if remaining_budget > 0:\n",
    "                if remaining_budget > 1:\n",
    "                    queue.append((neighbor, remaining_budget))\n",
    "                else:\n",
    "                    randval = random.random()\n",
    "                    if randval < EPSILON:\n",
    "                        queue.append((neighbor, remaining_budget))\n",
    "                    else:\n",
    "                        updateContextPairs(context_pair, 1, context_pairs)"
   ]
  },
  {
   "cell_type": "code",
   "execution_count": 363,
   "metadata": {},
   "outputs": [],
   "source": [
    "def recursiveRandomWalk(graph, start, budget, context_pairs):\n",
    "#     print(budget)\n",
    "    random.seed(1)\n",
    "    vertex_neighbors = [n for n in G.neighbors(start)]\n",
    "    num_neighbors = len(vertex_neighbors)\n",
    "    m = getPerNodeBudget(num_neighbors, budget)\n",
    "    remainder = budget - (m * num_neighbors)\n",
    "    chosen_nodes = []\n",
    "    if remainder > 0:\n",
    "        chosen_nodes = random.sample(population=vertex_neighbors, k=remainder)\n",
    "    for neighbor in vertex_neighbors:\n",
    "        budget_for_this_node = m \n",
    "        if neighbor in chosen_nodes:\n",
    "            budget_for_this_node = budget_for_this_node + 1\n",
    "        num_rand_walks_ending_here =  math.floor(budget_for_this_node * EPSILON)\n",
    "#         print(budget_for_this_node, num_rand_walks_ending_here)\n",
    "        context_pair = str(start) + \" \" + str(neighbor)\n",
    "        if(num_rand_walks_ending_here > 0):\n",
    "            updateContextPairs(context_pair, num_rand_walks_ending_here, context_pairs)\n",
    "        remaining_budget = math.floor(budget_for_this_node * (1 - EPSILON))\n",
    "        if remaining_budget >= 1:\n",
    "            if remaining_budget > 1:\n",
    "                recursiveRandomWalk(graph, neighbor, remaining_budget, context_pairs)    \n",
    "            else:\n",
    "                randval = random.random()\n",
    "                if randval < EPSILON:\n",
    "                    recursiveRandomWalk(graph, neighbor, remaining_budget, context_pairs)\n",
    "                else:\n",
    "                    updateContextPairs(context_pair, 1, context_pairs)"
   ]
  },
  {
   "cell_type": "code",
   "execution_count": 364,
   "metadata": {},
   "outputs": [
    {
     "name": "stdout",
     "output_type": "stream",
     "text": [
      "recursive\n",
      "non recursive\n"
     ]
    }
   ],
   "source": [
    "context_pairs = {}\n",
    "print(\"recursive\")\n",
    "for startvertex in G:\n",
    "    recursiveRandomWalk(G, startvertex, NUM_RANDOM_WALKS, context_pairs)\n",
    "for (key, value) in context_pairs.items():\n",
    "    femb_recursive.write(key + \" \" + str(value) + \"\\n\" )\n",
    "femb_recursive.close()\n",
    "context_pairs = {}\n",
    "print(\"non recursive\")\n",
    "for startvertex in G:\n",
    "    queue = [(startvertex, NUM_RANDOM_WALKS)]\n",
    "    BFSRandomWalk(G, startvertex, queue, context_pairs)\n",
    "for (key, value) in context_pairs.items():\n",
    "    femb_iterative.write(key + \" \" + str(value) + \"\\n\" )\n",
    "femb_iterative.close()"
   ]
  },
  {
   "cell_type": "code",
   "execution_count": 365,
   "metadata": {},
   "outputs": [],
   "source": [
    "# def RandomWalk(graph, start, budget, epsilon):\n",
    "#     print(\"Starting vertex is: \", start)\n",
    "#     vertex_neighbors = [n for n in G.neighbors(start)]\n",
    "#     m = getPerNodeBudget(len(vertex_neighbors), budget) # 1\n",
    "#     print(\"m is equal to: \", m)\n",
    "    \n",
    "#     candidatePairs = []\n",
    "#     candidate1 = \"\"\n",
    "#     candidate2 = \"\"\n",
    "    \n",
    "    \n",
    "#     allbudgets = {}\n",
    "#     ebudgets = {}\n",
    "#     for node in graph:\n",
    "#         ebudgets[node] = -1 # means that the e for the node is not set yet\n",
    "#         allbudgets[node] = []\n",
    "        \n",
    "#     allbudgets[start].append(m)  #assign the budget to the start vertex\n",
    "#     ebudgets[start] = 1\n",
    "    \n",
    "#     queue = [start]\n",
    "#     visited = []\n",
    "    \n",
    "#     while queue:\n",
    "#         vertex = queue.pop(0)  # get the vertex from queue\n",
    "#         print(\"\");print(\"Current vertex is: \", vertex)\n",
    "#         candidate1 = vertex\n",
    "            \n",
    "#         vertex_neighbors = [n for n in G.neighbors(vertex)]\n",
    "#         print(\"The neighbours of vertex: \", vertex, \"are ->\", vertex_neighbors)\n",
    "        \n",
    "#         if len(vertex_neighbors) >= len(allbudgets[vertex]): # case when a vertex has more neighbors than the budget\n",
    "#             newVertexies = np.random.choice(vertex_neighbors, allbudgets[vertex], replace=False)\n",
    "#             print(\"Randomly chose these vertexes:\", newVertexies, \"without replacement\")\n",
    "#         else:\n",
    "#             newVertexies = np.random.choice(vertex_neighbors, allbudgets[vertex], replace=True)    \n",
    "        \n",
    "\n",
    "#         allbudgets, ebudgets = updateBudgets(vertex, newVertexies, allbudgets, ebudgets, epsilon)# update the budgets of the neighbours\n",
    "\n",
    "        \n",
    "#         queue = updateQueue(queue, ebudgets, epsilon ,allbudgets, newVertexies)\n",
    "#         print(\"Curent queue became:\", queue)\n",
    "        \n",
    "\n",
    "        \n",
    "        \n",
    "#     return visited"
   ]
  },
  {
   "cell_type": "code",
   "execution_count": 366,
   "metadata": {},
   "outputs": [],
   "source": [
    "# def updateBudgets(currentVertex, newVertexies, allbudgets, ebudgets, e):\n",
    "#     #note that if the node gets an e smaller than 0.2 he wont be assigned any budget\n",
    "#     for vertex in newVertexies:\n",
    "#         ebudgets[vertex] = random.uniform(0, 1) \n",
    "#         if ebudgets[vertex] > e:\n",
    "#             allbudgets[vertex].append(1)\n",
    "\n",
    "#     ebudgets[currentVertex] = -1 #set its own ebudget to -1 \n",
    "#     allbudgets[currentVertex].pop(0) #set its own budget to 0\n",
    "#     print(\"The allbudgets were updated as follows\", allbudgets )\n",
    "#     print(\"The ebudgets were updated as follows\", ebudgets )\n",
    "    \n",
    "#     ebudgets = clearEbudgets(ebudgets, e)\n",
    "    \n",
    "#     return allbudgets, ebudgets\n",
    "    "
   ]
  },
  {
   "cell_type": "code",
   "execution_count": 367,
   "metadata": {},
   "outputs": [],
   "source": [
    "# def updateQueue(queue, ebudgets, e, allbudgets, newVertexies):\n",
    "#     for vertex in newVertexies: \n",
    "#         if len(allbudgets[vertex])>0 and ebudgets[vertex]>e:\n",
    "#             queue.append(vertex)\n",
    "#     return queue"
   ]
  },
  {
   "cell_type": "code",
   "execution_count": 27,
   "metadata": {},
   "outputs": [],
   "source": [
    "# def clearEbudgets(ebudgets, e):\n",
    "#     #clears small e values\n",
    "#     for vertex in ebudgets:\n",
    "#         if ebudgets[vertex] >= 0 and ebudgets[vertex]<e:\n",
    "#             ebudgets[vertex] = -1\n",
    "#     return ebudgets"
   ]
  },
  {
   "cell_type": "code",
   "execution_count": 28,
   "metadata": {},
   "outputs": [
    {
     "name": "stdout",
     "output_type": "stream",
     "text": [
      "Running BFS from vertex: A\n",
      "Starting vertex is:  A\n",
      "m is equal to:  7\n",
      "\n",
      "Current vertex is:  A\n",
      "The neighbours of vertex:  A are -> ['D', 'E']\n"
     ]
    },
    {
     "ename": "ValueError",
     "evalue": "Cannot take a larger sample than population when 'replace=False'",
     "output_type": "error",
     "traceback": [
      "\u001b[0;31m---------------------------------------------------------------------------\u001b[0m",
      "\u001b[0;31mValueError\u001b[0m                                Traceback (most recent call last)",
      "\u001b[0;32m<ipython-input-28-20c2c0529633>\u001b[0m in \u001b[0;36m<module>\u001b[0;34m\u001b[0m\n\u001b[1;32m      4\u001b[0m \u001b[0;32mfor\u001b[0m \u001b[0mstartvertex\u001b[0m \u001b[0;32min\u001b[0m \u001b[0mG\u001b[0m\u001b[0;34m:\u001b[0m\u001b[0;34m\u001b[0m\u001b[0;34m\u001b[0m\u001b[0m\n\u001b[1;32m      5\u001b[0m     \u001b[0mprint\u001b[0m\u001b[0;34m(\u001b[0m\u001b[0;34m\"Running BFS from vertex:\"\u001b[0m\u001b[0;34m,\u001b[0m \u001b[0mstartvertex\u001b[0m\u001b[0;34m)\u001b[0m\u001b[0;34m\u001b[0m\u001b[0;34m\u001b[0m\u001b[0m\n\u001b[0;32m----> 6\u001b[0;31m     \u001b[0mprint\u001b[0m\u001b[0;34m(\u001b[0m\u001b[0mRandomWalk\u001b[0m\u001b[0;34m(\u001b[0m\u001b[0mG\u001b[0m\u001b[0;34m,\u001b[0m \u001b[0mstartvertex\u001b[0m\u001b[0;34m,\u001b[0m \u001b[0mbudget\u001b[0m\u001b[0;34m,\u001b[0m \u001b[0me\u001b[0m\u001b[0;34m)\u001b[0m\u001b[0;34m)\u001b[0m\u001b[0;34m\u001b[0m\u001b[0;34m\u001b[0m\u001b[0m\n\u001b[0m",
      "\u001b[0;32m<ipython-input-24-0eeb3a511e84>\u001b[0m in \u001b[0;36mRandomWalk\u001b[0;34m(graph, start, budget, e)\u001b[0m\n\u001b[1;32m     31\u001b[0m \u001b[0;34m\u001b[0m\u001b[0m\n\u001b[1;32m     32\u001b[0m         \u001b[0;32mif\u001b[0m \u001b[0mlen\u001b[0m\u001b[0;34m(\u001b[0m\u001b[0mvertex_neighbors\u001b[0m\u001b[0;34m)\u001b[0m \u001b[0;34m>=\u001b[0m \u001b[0mlen\u001b[0m\u001b[0;34m(\u001b[0m\u001b[0mallbudgets\u001b[0m\u001b[0;34m[\u001b[0m\u001b[0mvertex\u001b[0m\u001b[0;34m]\u001b[0m\u001b[0;34m)\u001b[0m\u001b[0;34m:\u001b[0m \u001b[0;31m# case when a vertex has more neighbors than the budget\u001b[0m\u001b[0;34m\u001b[0m\u001b[0;34m\u001b[0m\u001b[0m\n\u001b[0;32m---> 33\u001b[0;31m             \u001b[0mnewVertexies\u001b[0m \u001b[0;34m=\u001b[0m \u001b[0mnp\u001b[0m\u001b[0;34m.\u001b[0m\u001b[0mrandom\u001b[0m\u001b[0;34m.\u001b[0m\u001b[0mchoice\u001b[0m\u001b[0;34m(\u001b[0m\u001b[0mvertex_neighbors\u001b[0m\u001b[0;34m,\u001b[0m \u001b[0mallbudgets\u001b[0m\u001b[0;34m[\u001b[0m\u001b[0mvertex\u001b[0m\u001b[0;34m]\u001b[0m\u001b[0;34m,\u001b[0m \u001b[0mreplace\u001b[0m\u001b[0;34m=\u001b[0m\u001b[0;32mFalse\u001b[0m\u001b[0;34m)\u001b[0m\u001b[0;34m\u001b[0m\u001b[0;34m\u001b[0m\u001b[0m\n\u001b[0m\u001b[1;32m     34\u001b[0m             \u001b[0mprint\u001b[0m\u001b[0;34m(\u001b[0m\u001b[0;34m\"Randomly chose these vertexes:\"\u001b[0m\u001b[0;34m,\u001b[0m \u001b[0mnewVertexies\u001b[0m\u001b[0;34m,\u001b[0m \u001b[0;34m\"without replacement\"\u001b[0m\u001b[0;34m)\u001b[0m\u001b[0;34m\u001b[0m\u001b[0;34m\u001b[0m\u001b[0m\n\u001b[1;32m     35\u001b[0m         \u001b[0;32melse\u001b[0m\u001b[0;34m:\u001b[0m\u001b[0;34m\u001b[0m\u001b[0;34m\u001b[0m\u001b[0m\n",
      "\u001b[0;32mmtrand.pyx\u001b[0m in \u001b[0;36mmtrand.RandomState.choice\u001b[0;34m()\u001b[0m\n",
      "\u001b[0;31mValueError\u001b[0m: Cannot take a larger sample than population when 'replace=False'"
     ]
    }
   ],
   "source": [
    "\n",
    "# for startvertex in G:\n",
    "#     print(\"Running BFS from vertex:\", startvertex)\n",
    "#     print(RandomWalk(G, startvertex, budget, epsilon)) "
   ]
  },
  {
   "cell_type": "code",
   "execution_count": null,
   "metadata": {},
   "outputs": [],
   "source": []
  },
  {
   "cell_type": "code",
   "execution_count": null,
   "metadata": {},
   "outputs": [],
   "source": []
  },
  {
   "cell_type": "code",
   "execution_count": null,
   "metadata": {},
   "outputs": [],
   "source": [
    "# def bfs2(graph, start):\n",
    "#     visited = []\n",
    "#     queue = [start]\n",
    "#     while queue:\n",
    "#         vertex = queue.pop(0)\n",
    "#         if vertex not in visited:\n",
    "#             visited.append(vertex)\n",
    "#             vertex_neighbors = [n for n in G.neighbors(vertex)]\n",
    "#             newVertexies = [x for x in vertex_neighbors if x not in visited]\n",
    "#             queue.extend(newVertexies)\n",
    "         \n",
    "#     return visited"
   ]
  },
  {
   "cell_type": "code",
   "execution_count": 119,
   "metadata": {},
   "outputs": [],
   "source": [
    "# vertex_neighbors = [n for n in G.neighbors(\"A\")]\n",
    "# l3 = [x for x in vertex_neighbors if x not in ['G']]\n",
    "# l3"
   ]
  },
  {
   "cell_type": "code",
   "execution_count": 118,
   "metadata": {},
   "outputs": [],
   "source": [
    "# list = [20, 30, 40, 50 ,60, 70, 80]\n",
    "# sampling = np.random.choice(list, 4, replace=False)\n",
    "# print(\"sampling with choices() \", sampling)"
   ]
  },
  {
   "cell_type": "code",
   "execution_count": 117,
   "metadata": {},
   "outputs": [],
   "source": [
    "# # Execute 10 times this command sequence\n",
    "# numOperations = 10\n",
    "# for step in range(1, numOperations):\n",
    "#     # Choose a random start node\n",
    "#     vertexid = 1\n",
    "#     # Dictionary that associate nodes with the amount of times it was visited\n",
    "#     visited_vertices = {}\n",
    "#     # Store and print path\n",
    "#     path = [vertexid]\n",
    "    \n",
    "#     print(\"Step: %d\" % (step))\n",
    "#     # Restart the cycle\n",
    "#     counter = 0\n",
    "#     # Execute the random walk with size 100 (100 steps)\n",
    "#     randomWalkSize = 100\n",
    "#     for counter in range(1, randomWalkSize): \n",
    "#         # Extract vertex neighbours vertex neighborhood\n",
    "#         vertex_neighbors = [n for n in G.neighbors(vertexid)]\n",
    "#         # Set probability of going to a neighbour is uniform\n",
    "#         probability = []\n",
    "#         probability = probability + [1./len(vertex_neighbors)] * len(vertex_neighbors)\n",
    "#         # Choose a vertex from the vertex neighborhood to start the next random walk\n",
    "#         vertexid = np.random.choice(vertex_neighbors, p=probability)\n",
    "#         # Accumulate the amount of times each vertex is visited\n",
    "#         if vertexid in visited_vertices:\n",
    "#             visited_vertices[vertexid] += 1\n",
    "#         else:\n",
    "#             visited_vertices[vertexid] = 1\n",
    "\n",
    "#         # Append to path\n",
    "#         path.append(vertexid)\n",
    "\n",
    "#     # Organize the vertex list in most visited decrescent order\n",
    "#     mostvisited = sorted(visited_vertices, key = visited_vertices.get,reverse = True)\n",
    "#     print(\"Path: \", path)\n",
    "    \n",
    "#     # Separate the top 10 most visited vertex\n",
    "#     print(\"Most visited nodes: \", mostvisited[:10])"
   ]
  },
  {
   "cell_type": "code",
   "execution_count": null,
   "metadata": {},
   "outputs": [],
   "source": []
  }
 ],
 "metadata": {
  "kernelspec": {
   "display_name": "Python 3",
   "language": "python",
   "name": "python3"
  },
  "language_info": {
   "codemirror_mode": {
    "name": "ipython",
    "version": 3
   },
   "file_extension": ".py",
   "mimetype": "text/x-python",
   "name": "python",
   "nbconvert_exporter": "python",
   "pygments_lexer": "ipython3",
   "version": "3.7.1"
  }
 },
 "nbformat": 4,
 "nbformat_minor": 1
}
