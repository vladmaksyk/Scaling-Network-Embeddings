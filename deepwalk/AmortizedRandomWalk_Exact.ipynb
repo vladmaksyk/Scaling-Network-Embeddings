{
 "cells": [
  {
   "cell_type": "code",
   "execution_count": 2,
   "metadata": {},
   "outputs": [],
   "source": [
    "import networkx as nx\n",
    "import numpy as np\n",
    "import matplotlib.pyplot as plt\n",
    "import random\n",
    "import pandas as pd\n",
    "import math \n",
    "import time\n",
    "import numpy as np\n",
    "from collections import Counter\n",
    "from tqdm import tqdm\n",
    "\n",
    "filepathTXT = \"../edgelists/BlogCatalog-edgelist.txt\"\n",
    "filepathCSV = \"../edgelists/BlogCatalog-edgelist.csv\"\n",
    "embeddingsrecursive = \"../embeddings/BlogCatalog-edgelist.txt.embeddings-recursive\"\n",
    "embeddingsiterative = \"../embeddings/BlogCatalog-edgelist.txt.embeddings-iterative\""
   ]
  },
  {
   "cell_type": "code",
   "execution_count": 3,
   "metadata": {},
   "outputs": [],
   "source": [
    "def parseEdgeList1(graph_file, delimiter=\" \", weighted=False, direction=\"undirected\"):\n",
    "    if(weighted == False):\n",
    "        G = nx.read_edgelist(graph_file, delimiter=delimiter)\n",
    "    else:\n",
    "        G = nx.read_edgelist(graph_file, delimiter=delimiter, nodetype=int, data=(('weight',float),))\n",
    "    print(G.number_of_nodes(), G.number_of_edges(), \" loaded from \", graph_file)\n",
    "    if(direction == \"undirected\"):\n",
    "        return G.to_undirected()\n",
    "    else:\n",
    "        return G"
   ]
  },
  {
   "cell_type": "code",
   "execution_count": 4,
   "metadata": {},
   "outputs": [],
   "source": [
    "def parseEdgeList2(graph_file, direction=\"undirected\"):\n",
    "    # Create Graph\n",
    "    G = nx.Graph()\n",
    "    # Create head\n",
    "    colNames=[\"Start\", \"End\"]\n",
    "    edgeData = pd.read_csv(filepathCSV, names=colNames)\n",
    "\n",
    "    #Add nodes\n",
    "    nodes = []\n",
    "    #loop throug data records\n",
    "    for i in range (0, edgeData.shape[0]):\n",
    "        #append every node\n",
    "        nodes.append(edgeData.iloc[i,0])\n",
    "        nodes.append(edgeData.iloc[i,1])\n",
    "    #creating a set of nodes    \n",
    "    nodes = set(nodes)\n",
    "    #sorting the nodes in increasing order\n",
    "    uniqueNodes = (list(nodes))\n",
    "    uniqueNodes.sort()\n",
    "    #adding the nodes to the graph\n",
    "    G.add_nodes_from(uniqueNodes)\n",
    "\n",
    "    # Add edges\n",
    "    #loop from 0 to amount of records\n",
    "    edgeCount = 0\n",
    "    for i in range (0, edgeData.shape[0]):\n",
    "        edgeCount += 1\n",
    "        #add the edge to the graph\n",
    "        G.add_edge(edgeData.iloc[i,0], edgeData.iloc[i,1])\n",
    "    print(\"Nodes: \", G.number_of_nodes(),\" Edges: \", G.number_of_edges(), \" loaded from \", graph_file)\n",
    "\n",
    "    if(direction == \"undirected\"):\n",
    "        return G.to_undirected()\n",
    "    else:\n",
    "        return G"
   ]
  },
  {
   "cell_type": "code",
   "execution_count": 5,
   "metadata": {},
   "outputs": [
    {
     "name": "stdout",
     "output_type": "stream",
     "text": [
      "10312 333983  loaded from  ../edgelists/BlogCatalog-edgelist.txt\n"
     ]
    }
   ],
   "source": [
    "G = parseEdgeList1(filepathTXT) #String labels \n",
    "#G = parseEdgeList2(filepathCSV) # Integer labels"
   ]
  },
  {
   "cell_type": "code",
   "execution_count": 6,
   "metadata": {},
   "outputs": [],
   "source": [
    "femb_recursive = open(embeddingsrecursive, 'w')\n",
    "femb_iterative = open(embeddingsiterative, 'w')"
   ]
  },
  {
   "cell_type": "markdown",
   "metadata": {},
   "source": [
    "## Toy Graph"
   ]
  },
  {
   "cell_type": "code",
   "execution_count": 59,
   "metadata": {},
   "outputs": [
    {
     "name": "stdout",
     "output_type": "stream",
     "text": [
      "Nodes:  11  Edges:  20\n"
     ]
    },
    {
     "data": {
      "image/png": "[encoded data removed]",
      "text/plain": [
       "<Figure size 432x288 with 1 Axes>"
      ]
     },
     "metadata": {},
     "output_type": "display_data"
    }
   ],
   "source": [
    "G = nx.Graph()\n",
    "#Small example\n",
    "G.add_nodes_from([1,2,3,4,5,6,7,8,9,10,11])\n",
    "G.add_edge(2, 1);\n",
    "G.add_edge(3, 1);\n",
    "G.add_edge(3, 2);\n",
    "G.add_edge(4, 1);\n",
    "G.add_edge(4, 2);\n",
    "G.add_edge(4, 3);\n",
    "G.add_edge(5, 1);\n",
    "G.add_edge(6, 1);\n",
    "G.add_edge(7, 1);\n",
    "G.add_edge(7, 5);\n",
    "G.add_edge(7, 6);\n",
    "G.add_edge(8, 1);\n",
    "G.add_edge(8, 2);\n",
    "G.add_edge(8, 3);\n",
    "G.add_edge(8, 4);                \n",
    "G.add_edge(9, 1);\n",
    "G.add_edge(9, 3);\n",
    "G.add_edge(10, 3);\n",
    "G.add_edge(11, 1);\n",
    "G.add_edge(11, 5);\n",
    "\n",
    "print(\"Nodes: \", G.number_of_nodes(),\" Edges: \", G.number_of_edges())\n",
    "# G.add_nodes_from([1,2,4,5,6,7,9,11])\n",
    "# G.add_edge(2, 1);\n",
    "# G.add_edge(4, 1);\n",
    "# G.add_edge(4, 2);\n",
    "# G.add_edge(5, 1);\n",
    "# G.add_edge(6, 1);\n",
    "# G.add_edge(7, 1);\n",
    "# G.add_edge(7, 5);\n",
    "# G.add_edge(7, 6);\n",
    "# G.add_edge(9, 1);\n",
    "# G.add_edge(11, 1);\n",
    "# G.add_edge(11, 5);\n",
    "\n",
    "\n",
    "# Draw graph\n",
    "nx.draw(G, with_labels = True)\n",
    "#plt.show()"
   ]
  },
  {
   "cell_type": "markdown",
   "metadata": {},
   "source": [
    "## Random Walk with window"
   ]
  },
  {
   "cell_type": "code",
   "execution_count": 149,
   "metadata": {},
   "outputs": [],
   "source": [
    "def chooseNodes(list_nodes, sample_size):\n",
    "#     random.seed(0)\n",
    "    return random.sample(population=list_nodes, k=sample_size) # 2.22 s ± 179 ms per loop  (labesl str)\n",
    "\n",
    "def getPerNodeBudget(numNodes, budget):\n",
    "    return math.floor(budget/numNodes)\n",
    "\n",
    "def storeContextPairs(context_pair, budget, context_pairs):\n",
    "    if context_pair not in context_pairs:\n",
    "        context_pairs[context_pair] = budget\n",
    "    else:\n",
    "        context_pairs[context_pair] = context_pairs[context_pair] +  budget\n",
    "        \n",
    "def updateContextPairs(window, context_pairs, middleNodeId):\n",
    "    lastNode = window[-1]\n",
    "    labelOfLastNode, budgetOfLastNode = lastNode\n",
    "    index_count = 0\n",
    "    window_except_last = window[:-1]\n",
    "    for node in reversed(window_except_last):\n",
    "        node_label = node[0]\n",
    "        if index_count == ORIGINAL_WINDOW_SIZE:\n",
    "            break\n",
    "        context_pair1 = str(labelOfLastNode) +\",\"+ str(node_label)\n",
    "        context_pair2 = str(node_label) + \",\" + str(labelOfLastNode)\n",
    "        storeContextPairs(context_pair1, budgetOfLastNode, context_pairs)\n",
    "        storeContextPairs(context_pair2, budgetOfLastNode, context_pairs)\n",
    "        index_count = index_count + 1\n",
    "    \n",
    "        \n",
    "def addNewNodeToWindow(window, vertex, budget):\n",
    "    window.append([vertex,budget])\n",
    "    return window\n",
    "\n",
    "def BFSRandomWalkWindow(graph, start, queue, context_pairs, window_size, walk_lenght, middleNodeIdx):\n",
    "    while queue:\n",
    "        vertex, budget, current_walk_lenght, window = queue.pop(0)\n",
    "        vertex_neighbors = [n for n in G.neighbors(vertex)]\n",
    "        num_neighbors = len(vertex_neighbors)\n",
    "        m = getPerNodeBudget(num_neighbors, budget)\n",
    "        remainder = budget - (m * num_neighbors)\n",
    "        chosen_nodes = []\n",
    "        if remainder > 0:\n",
    "            chosen_nodes = chooseNodes(vertex_neighbors, remainder)\n",
    "        print(chosen_nodes)\n",
    "        current_walk_lenght += 1\n",
    "        for neighbor in vertex_neighbors:\n",
    "            budget_for_this_node = m \n",
    "            if neighbor in chosen_nodes:\n",
    "                budget_for_this_node = budget_for_this_node + 1\n",
    "            if(budget_for_this_node > 0):\n",
    "                if len(window) == window_size:\n",
    "                    window.pop(0)\n",
    "                addNewNodeToWindow(window, neighbor, budget_for_this_node) \n",
    "                print(window)\n",
    "                updateContextPairs(window, context_pairs, middleNodeIdx) \n",
    "                if current_walk_lenght < walk_lenght:\n",
    "                    queue.append((neighbor, budget_for_this_node, current_walk_lenght, list(window)))\n",
    "                window.pop(-1)\n",
    "        print(context_pairs)"
   ]
  },
  {
   "cell_type": "markdown",
   "metadata": {},
   "source": [
    "### Actual case"
   ]
  },
  {
   "cell_type": "code",
   "execution_count": 150,
   "metadata": {},
   "outputs": [],
   "source": [
    "def Runner():\n",
    "    context_pairs = {}\n",
    "    \n",
    "#     # Set the actual parameters \n",
    "#     WALK_LENGHT = 40\n",
    "#     BUDGET = 80\n",
    "#     WINDOW_SIZE = 10\n",
    "#     WINDOW_SIZE = WINDOW_SIZE*2+1\n",
    "#     WINDOW=[]\n",
    "    \n",
    "    # Set toy parameters     \n",
    "    WINDOW_SIZE = ORIGINAL_WINDOW_SIZE*2+1\n",
    "    MIDDLE_NODE = math.floor(WINDOW_SIZE/2)\n",
    "    WINDOW=[]\n",
    "#     nodedegree = sorted(G.degree, key=lambda x: x[1], reverse=True)\n",
    "#     nodes = [n[0] for n in nodedegree]\n",
    "#     nodes = [n for n in G.nodes()]\n",
    "#     rand.shuffle(nodes)\n",
    "    nodes = list(G.nodes)\n",
    "    print(\"Running BFSRandomWalkWindow...\")\n",
    "    for startvertex in nodes:\n",
    "        print(startvertex)\n",
    "        WINDOW = [[startvertex, BUDGET]]\n",
    "        queue = [(startvertex, BUDGET, 1, WINDOW)]\n",
    "        BFSRandomWalkWindow(G, startvertex, queue, context_pairs, WINDOW_SIZE, WALK_LENGHT, MIDDLE_NODE)\n",
    "#         break\n",
    "    return context_pairs\n"
   ]
  },
  {
   "cell_type": "code",
   "execution_count": 151,
   "metadata": {},
   "outputs": [],
   "source": [
    "#%timeit Runner()"
   ]
  },
  {
   "cell_type": "code",
   "execution_count": 152,
   "metadata": {},
   "outputs": [
    {
     "name": "stdout",
     "output_type": "stream",
     "text": [
      "Running BFSRandomWalkWindow...\n",
      "1\n",
      "[8]\n",
      "[[1, 1], [8, 1]]\n",
      "{'8,1': 1, '1,8': 1}\n",
      "[4]\n",
      "[[1, 1], [8, 1], [4, 1]]\n",
      "{'8,1': 1, '1,8': 1, '4,8': 1, '8,4': 1}\n",
      "2\n",
      "[1]\n",
      "[[2, 1], [1, 1]]\n",
      "{'8,1': 1, '1,8': 1, '4,8': 1, '8,4': 1, '1,2': 1, '2,1': 1}\n",
      "[6]\n",
      "[[2, 1], [1, 1], [6, 1]]\n",
      "{'8,1': 1, '1,8': 1, '4,8': 1, '8,4': 1, '1,2': 1, '2,1': 1, '6,1': 1, '1,6': 1}\n",
      "3\n",
      "[9]\n",
      "[[3, 1], [9, 1]]\n",
      "{'8,1': 1, '1,8': 1, '4,8': 1, '8,4': 1, '1,2': 1, '2,1': 1, '6,1': 1, '1,6': 1, '9,3': 1, '3,9': 1}\n",
      "[3]\n",
      "[[3, 1], [9, 1], [3, 1]]\n",
      "{'8,1': 1, '1,8': 1, '4,8': 1, '8,4': 1, '1,2': 1, '2,1': 1, '6,1': 1, '1,6': 1, '9,3': 2, '3,9': 2}\n",
      "4\n",
      "[8]\n",
      "[[4, 1], [8, 1]]\n",
      "{'8,1': 1, '1,8': 1, '4,8': 2, '8,4': 2, '1,2': 1, '2,1': 1, '6,1': 1, '1,6': 1, '9,3': 2, '3,9': 2}\n",
      "[3]\n",
      "[[4, 1], [8, 1], [3, 1]]\n",
      "{'8,1': 1, '1,8': 1, '4,8': 2, '8,4': 2, '1,2': 1, '2,1': 1, '6,1': 1, '1,6': 1, '9,3': 2, '3,9': 2, '3,8': 1, '8,3': 1}\n",
      "5\n",
      "[7]\n",
      "[[5, 1], [7, 1]]\n",
      "{'8,1': 1, '1,8': 1, '4,8': 2, '8,4': 2, '1,2': 1, '2,1': 1, '6,1': 1, '1,6': 1, '9,3': 2, '3,9': 2, '3,8': 1, '8,3': 1, '7,5': 1, '5,7': 1}\n",
      "[5]\n",
      "[[5, 1], [7, 1], [5, 1]]\n",
      "{'8,1': 1, '1,8': 1, '4,8': 2, '8,4': 2, '1,2': 1, '2,1': 1, '6,1': 1, '1,6': 1, '9,3': 2, '3,9': 2, '3,8': 1, '8,3': 1, '7,5': 2, '5,7': 2}\n",
      "6\n",
      "[1]\n",
      "[[6, 1], [1, 1]]\n",
      "{'8,1': 1, '1,8': 1, '4,8': 2, '8,4': 2, '1,2': 1, '2,1': 1, '6,1': 2, '1,6': 2, '9,3': 2, '3,9': 2, '3,8': 1, '8,3': 1, '7,5': 2, '5,7': 2}\n",
      "[11]\n",
      "[[6, 1], [1, 1], [11, 1]]\n",
      "{'8,1': 1, '1,8': 1, '4,8': 2, '8,4': 2, '1,2': 1, '2,1': 1, '6,1': 2, '1,6': 2, '9,3': 2, '3,9': 2, '3,8': 1, '8,3': 1, '7,5': 2, '5,7': 2, '11,1': 1, '1,11': 1}\n",
      "7\n",
      "[1]\n",
      "[[7, 1], [1, 1]]\n",
      "{'8,1': 1, '1,8': 1, '4,8': 2, '8,4': 2, '1,2': 1, '2,1': 1, '6,1': 2, '1,6': 2, '9,3': 2, '3,9': 2, '3,8': 1, '8,3': 1, '7,5': 2, '5,7': 2, '11,1': 1, '1,11': 1, '1,7': 1, '7,1': 1}\n",
      "[6]\n",
      "[[7, 1], [1, 1], [6, 1]]\n",
      "{'8,1': 1, '1,8': 1, '4,8': 2, '8,4': 2, '1,2': 1, '2,1': 1, '6,1': 3, '1,6': 3, '9,3': 2, '3,9': 2, '3,8': 1, '8,3': 1, '7,5': 2, '5,7': 2, '11,1': 1, '1,11': 1, '1,7': 1, '7,1': 1}\n",
      "8\n",
      "[2]\n",
      "[[8, 1], [2, 1]]\n",
      "{'8,1': 1, '1,8': 1, '4,8': 2, '8,4': 2, '1,2': 1, '2,1': 1, '6,1': 3, '1,6': 3, '9,3': 2, '3,9': 2, '3,8': 1, '8,3': 1, '7,5': 2, '5,7': 2, '11,1': 1, '1,11': 1, '1,7': 1, '7,1': 1, '2,8': 1, '8,2': 1}\n",
      "[1]\n",
      "[[8, 1], [2, 1], [1, 1]]\n",
      "{'8,1': 1, '1,8': 1, '4,8': 2, '8,4': 2, '1,2': 2, '2,1': 2, '6,1': 3, '1,6': 3, '9,3': 2, '3,9': 2, '3,8': 1, '8,3': 1, '7,5': 2, '5,7': 2, '11,1': 1, '1,11': 1, '1,7': 1, '7,1': 1, '2,8': 1, '8,2': 1}\n",
      "9\n",
      "[3]\n",
      "[[9, 1], [3, 1]]\n",
      "{'8,1': 1, '1,8': 1, '4,8': 2, '8,4': 2, '1,2': 2, '2,1': 2, '6,1': 3, '1,6': 3, '9,3': 3, '3,9': 3, '3,8': 1, '8,3': 1, '7,5': 2, '5,7': 2, '11,1': 1, '1,11': 1, '1,7': 1, '7,1': 1, '2,8': 1, '8,2': 1}\n",
      "[9]\n",
      "[[9, 1], [3, 1], [9, 1]]\n",
      "{'8,1': 1, '1,8': 1, '4,8': 2, '8,4': 2, '1,2': 2, '2,1': 2, '6,1': 3, '1,6': 3, '9,3': 4, '3,9': 4, '3,8': 1, '8,3': 1, '7,5': 2, '5,7': 2, '11,1': 1, '1,11': 1, '1,7': 1, '7,1': 1, '2,8': 1, '8,2': 1}\n",
      "10\n",
      "[]\n",
      "[[10, 1], [3, 1]]\n",
      "{'8,1': 1, '1,8': 1, '4,8': 2, '8,4': 2, '1,2': 2, '2,1': 2, '6,1': 3, '1,6': 3, '9,3': 4, '3,9': 4, '3,8': 1, '8,3': 1, '7,5': 2, '5,7': 2, '11,1': 1, '1,11': 1, '1,7': 1, '7,1': 1, '2,8': 1, '8,2': 1, '3,10': 1, '10,3': 1}\n",
      "[10]\n",
      "[[10, 1], [3, 1], [10, 1]]\n",
      "{'8,1': 1, '1,8': 1, '4,8': 2, '8,4': 2, '1,2': 2, '2,1': 2, '6,1': 3, '1,6': 3, '9,3': 4, '3,9': 4, '3,8': 1, '8,3': 1, '7,5': 2, '5,7': 2, '11,1': 1, '1,11': 1, '1,7': 1, '7,1': 1, '2,8': 1, '8,2': 1, '3,10': 2, '10,3': 2}\n",
      "11\n",
      "[1]\n",
      "[[11, 1], [1, 1]]\n",
      "{'8,1': 1, '1,8': 1, '4,8': 2, '8,4': 2, '1,2': 2, '2,1': 2, '6,1': 3, '1,6': 3, '9,3': 4, '3,9': 4, '3,8': 1, '8,3': 1, '7,5': 2, '5,7': 2, '11,1': 2, '1,11': 2, '1,7': 1, '7,1': 1, '2,8': 1, '8,2': 1, '3,10': 2, '10,3': 2}\n",
      "[6]\n",
      "[[11, 1], [1, 1], [6, 1]]\n",
      "{'8,1': 1, '1,8': 1, '4,8': 2, '8,4': 2, '1,2': 2, '2,1': 2, '6,1': 4, '1,6': 4, '9,3': 4, '3,9': 4, '3,8': 1, '8,3': 1, '7,5': 2, '5,7': 2, '11,1': 2, '1,11': 2, '1,7': 1, '7,1': 1, '2,8': 1, '8,2': 1, '3,10': 2, '10,3': 2}\n",
      "{'8,1': 1, '1,8': 1, '4,8': 2, '8,4': 2, '1,2': 2, '2,1': 2, '6,1': 4, '1,6': 4, '9,3': 4, '3,9': 4, '3,8': 1, '8,3': 1, '7,5': 2, '5,7': 2, '11,1': 2, '1,11': 2, '1,7': 1, '7,1': 1, '2,8': 1, '8,2': 1, '3,10': 2, '10,3': 2}\n"
     ]
    }
   ],
   "source": [
    "random.seed(0)\n",
    "rand=random.Random(0)\n",
    "WALK_LENGHT = 3\n",
    "BUDGET = 1\n",
    "ORIGINAL_WINDOW_SIZE = 1\n",
    "contextPairs = Runner()\n",
    "print(contextPairs)"
   ]
  },
  {
   "cell_type": "code",
   "execution_count": 153,
   "metadata": {},
   "outputs": [
    {
     "data": {
      "text/plain": [
       "{'8,1': 1,\n",
       " '1,8': 1,\n",
       " '4,8': 2,\n",
       " '8,4': 2,\n",
       " '1,2': 2,\n",
       " '2,1': 2,\n",
       " '6,1': 4,\n",
       " '1,6': 4,\n",
       " '9,3': 4,\n",
       " '3,9': 4,\n",
       " '3,8': 1,\n",
       " '8,3': 1,\n",
       " '7,5': 2,\n",
       " '5,7': 2,\n",
       " '11,1': 2,\n",
       " '1,11': 2,\n",
       " '1,7': 1,\n",
       " '7,1': 1,\n",
       " '2,8': 1,\n",
       " '8,2': 1,\n",
       " '3,10': 2,\n",
       " '10,3': 2}"
      ]
     },
     "execution_count": 153,
     "metadata": {},
     "output_type": "execute_result"
    }
   ],
   "source": [
    "contextPairs"
   ]
  },
  {
   "cell_type": "markdown",
   "metadata": {},
   "source": [
    "### Writing to file"
   ]
  },
  {
   "cell_type": "code",
   "execution_count": 95,
   "metadata": {},
   "outputs": [
    {
     "name": "stdout",
     "output_type": "stream",
     "text": [
      "Writing context pairs to file...\n"
     ]
    }
   ],
   "source": [
    "print(\"Writing context pairs to file...\")    \n",
    "#Writing to file    \n",
    "for (key, value) in contextPairs.items():\n",
    "    \n",
    "    femb_iterative.write(str(key) + \" \" + str(value) + \"\\n\" )\n",
    "femb_iterative.close()"
   ]
  },
  {
   "cell_type": "code",
   "execution_count": null,
   "metadata": {},
   "outputs": [],
   "source": []
  }
 ],
 "metadata": {
  "kernelspec": {
   "display_name": "Python 3",
   "language": "python",
   "name": "python3"
  },
  "language_info": {
   "codemirror_mode": {
    "name": "ipython",
    "version": 3
   },
   "file_extension": ".py",
   "mimetype": "text/x-python",
   "name": "python",
   "nbconvert_exporter": "python",
   "pygments_lexer": "ipython3",
   "version": "3.7.1"
  }
 },
 "nbformat": 4,
 "nbformat_minor": 1
}
