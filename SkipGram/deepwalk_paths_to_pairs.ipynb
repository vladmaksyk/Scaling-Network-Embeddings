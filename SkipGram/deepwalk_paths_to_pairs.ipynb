{
 "cells": [
  {
   "cell_type": "code",
   "execution_count": 18,
   "metadata": {},
   "outputs": [],
   "source": [
    "paths_file = '/Users/vsetty/Downloads/blogcat-single-walk.walks.0'"
   ]
  },
  {
   "cell_type": "code",
   "execution_count": 19,
   "metadata": {},
   "outputs": [],
   "source": [
    "def updateContextPairs(node, context_node):\n",
    "    if context_node != '' and node != '':\n",
    "#         print(\"inside empty check\")\n",
    "        context_pair_str = node + \" \" + context_node\n",
    "#         print(context_pair_str)\n",
    "        if context_pair_str in context_pairs:\n",
    "            context_pairs[context_pair_str] = context_pairs[context_pair_str] + 1\n",
    "        else:\n",
    "            context_pairs[context_pair_str] = 1"
   ]
  },
  {
   "cell_type": "code",
   "execution_count": 20,
   "metadata": {},
   "outputs": [],
   "source": [
    "context_pairs = {}\n",
    "def convertPathsToContextPairs(paths_file):\n",
    "    f = open(paths_file)\n",
    "    for l in f:\n",
    "        nodes = l.strip().split(' ')\n",
    "    #     print(nodes)\n",
    "        window = 10\n",
    "        i = 0\n",
    "        while i < len(nodes):\n",
    "            \n",
    "            node = nodes[i].strip()\n",
    "#             print(node)\n",
    "            if node == '':\n",
    "                continue\n",
    "            j = 1\n",
    "            while j <= window:\n",
    "    #             if i != j:\n",
    "                context_node = ''\n",
    "#                 print(i+j, len(nodes))\n",
    "                if i+j < len(nodes):\n",
    "                    context_node =  nodes[i+j].strip()\n",
    "                    updateContextPairs(node, context_node)\n",
    "#                     print(\"right node \" + context_node)\n",
    "                if i-j >= 0:\n",
    "                    context_node =  nodes[i-j].strip()\n",
    "                    updateContextPairs(node, context_node)\n",
    "                j = j + 1\n",
    "                \n",
    "            i = i + 1\n",
    "\n",
    "#     break\n",
    "# print(context_pairs)"
   ]
  },
  {
   "cell_type": "code",
   "execution_count": 21,
   "metadata": {},
   "outputs": [],
   "source": [
    "# for i in range(0,27):\n",
    "#     file_name = '../data/BlogCatalog-edgelist.txt-deepwalk.embeddings.walks.' + str(i)\n",
    "#     print(file_name)\n",
    "#     convertPathsToContextPairs(file_name)\n",
    "#     print(len(context_pairs))"
   ]
  },
  {
   "cell_type": "code",
   "execution_count": 22,
   "metadata": {},
   "outputs": [],
   "source": [
    "convertPathsToContextPairs(paths_file)"
   ]
  },
  {
   "cell_type": "code",
   "execution_count": 23,
   "metadata": {},
   "outputs": [
    {
     "data": {
      "text/plain": [
       "7115280"
      ]
     },
     "execution_count": 23,
     "metadata": {},
     "output_type": "execute_result"
    }
   ],
   "source": [
    "context_pairs_file = paths_file + \"context_org_deepwalk\"\n",
    "# context_pairs_file = '../data/blogcat-single-walk.walks.0'\n",
    "femb_iterative = open(context_pairs_file, 'w')\n",
    "totalcount = 0\n",
    "\n",
    "for (key, value) in context_pairs.items():\n",
    "    totalcount = totalcount + value\n",
    "    femb_iterative.write(str(key) +  \" \" + str(value) + \"\\n\" )\n",
    "femb_iterative.close()\n",
    "totalcount"
   ]
  },
  {
   "cell_type": "code",
   "execution_count": 24,
   "metadata": {},
   "outputs": [
    {
     "name": "stdout",
     "output_type": "stream",
     "text": [
      "[4064875   86547   22850    9253    4553    2630    1626    1366     650\n",
      "     529     421     352     264     212     181     149     124      87\n",
      "      67      85      61      54      38      50      34      36      44\n",
      "      30      12      10      15      11       7       8      18      14\n",
      "       8       7       2       4       4       8       1       6       2\n",
      "       0       4       1       1       4       0       2       1       0\n",
      "       0       0       1       0       0       0       2       0       0\n",
      "       0       0       0       0       0       1       0       0       0\n",
      "       0       1       0       1       0       0       0       0       0\n",
      "       1       0       0       0       0       0       0       0       0\n",
      "       0       0       0       0       0       0       0       0       0\n",
      "       1]\n"
     ]
    },
    {
     "name": "stderr",
     "output_type": "stream",
     "text": [
      "/Users/vsetty/anaconda3/lib/python3.7/site-packages/ipykernel_launcher.py:10: DeprecationWarning: Passing normed=False is deprecated, and has no effect. Consider passing the density argument instead.\n",
      "  # Remove the CWD from sys.path while we load stuff.\n"
     ]
    },
    {
     "data": {
      "image/png": "[encoded data removed]",
      "text/plain": [
       "<Figure size 432x288 with 1 Axes>"
      ]
     },
     "metadata": {
      "needs_background": "light"
     },
     "output_type": "display_data"
    }
   ],
   "source": [
    "import numpy as np\n",
    "import matplotlib.pyplot as plt\n",
    "\n",
    "\n",
    "vals = np.fromiter(context_pairs.values(), dtype=int)\n",
    "# Choose how many bins you want here\n",
    "num_bins = 100\n",
    "\n",
    "# Use the histogram function to bin the data\n",
    "counts, bin_edges = np.histogram(vals, bins=num_bins, normed=False)\n",
    "print(counts)\n",
    "# Now find the cdf\n",
    "cdf = np.cumsum(counts)\n",
    "\n",
    "# And finally plot the cdf\n",
    "plt.plot(bin_edges[1:], cdf)\n",
    "\n",
    "plt.show()"
   ]
  },
  {
   "cell_type": "code",
   "execution_count": null,
   "metadata": {},
   "outputs": [],
   "source": []
  }
 ],
 "metadata": {
  "kernelspec": {
   "display_name": "Python 3",
   "language": "python",
   "name": "python3"
  },
  "language_info": {
   "codemirror_mode": {
    "name": "ipython",
    "version": 3
   },
   "file_extension": ".py",
   "mimetype": "text/x-python",
   "name": "python",
   "nbconvert_exporter": "python",
   "pygments_lexer": "ipython3",
   "version": "3.7.1"
  }
 },
 "nbformat": 4,
 "nbformat_minor": 2
}
