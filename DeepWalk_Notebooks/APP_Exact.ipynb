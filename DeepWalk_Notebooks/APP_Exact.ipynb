{
 "cells": [
  {
   "cell_type": "code",
   "execution_count": 1,
   "metadata": {},
   "outputs": [],
   "source": [
    "import networkx as nx\n",
    "import numpy as np\n",
    "import matplotlib.pyplot as plt\n",
    "import random\n",
    "import pandas as pd\n",
    "import math \n",
    "import time\n"
   ]
  },
  {
   "cell_type": "code",
   "execution_count": 2,
   "metadata": {},
   "outputs": [],
   "source": [
    "#set the parameters \n",
    "NUM_RANDOM_WALKS = 80\n",
    "EPSILON = 0.15"
   ]
  },
  {
   "cell_type": "code",
   "execution_count": 3,
   "metadata": {},
   "outputs": [],
   "source": [
    "filepath = \"input/BlogCatalog-edgelist.txt\"\n",
    "embeddingsiterative = \"output/BlogCatalog-edgelist.txt\""
   ]
  },
  {
   "cell_type": "code",
   "execution_count": 4,
   "metadata": {},
   "outputs": [],
   "source": [
    "def parseEdgeList(graph_file, delimiter=\" \", weighted=False, direction=\"undirected\"):\n",
    "    if(weighted == False):\n",
    "        G = nx.read_edgelist(graph_file, delimiter=delimiter)\n",
    "    else:\n",
    "        G = nx.read_edgelist(graph_file, delimiter=delimiter, nodetype=int, data=(('weight',float),))\n",
    "    print(G.number_of_nodes(), G.number_of_edges(), \" loaded from \", graph_file)\n",
    "    if(direction == \"undirected\"):\n",
    "        return G.to_undirected()\n",
    "    else:\n",
    "        return G"
   ]
  },
  {
   "cell_type": "code",
   "execution_count": 5,
   "metadata": {},
   "outputs": [
    {
     "name": "stdout",
     "output_type": "stream",
     "text": [
      "10312 333983  loaded from  input/BlogCatalog-edgelist.txt\n"
     ]
    }
   ],
   "source": [
    "G = parseEdgeList(filepath)"
   ]
  },
  {
   "cell_type": "code",
   "execution_count": 6,
   "metadata": {},
   "outputs": [],
   "source": [
    "# G = nx.Graph()\n",
    "# #Small example\n",
    "# G.add_nodes_from([\"A\",\"B\",\"C\",\"D\",\"E\",\"F\",\"G\",\"H\",\"I\",\"J\",\"K\",\"L\"])\n",
    "# # G.add_nodes_from([\"A\",\"B\",\"C\",\"D\",\"E\"])\n",
    "# G.add_edge(\"A\", \"D\"),G.add_edge(\"A\", \"E\"),G.add_edge(\"A\", \"I\"),G.add_edge(\"A\", \"K\")\n",
    "# G.add_edge(\"B\", \"D\"),G.add_edge(\"B\", \"C\"),G.add_edge(\"B\", \"L\"),G.add_edge(\"B\", \"K\")\n",
    "# G.add_edge(\"C\", \"D\"),G.add_edge(\"D\", \"H\"),G.add_edge(\"D\", \"G\"),G.add_edge(\"D\", \"E\")\n",
    "# G.add_edge(\"E\", \"F\"),G.add_edge(\"F\", \"G\"),G.add_edge(\"I\", \"E\"),G.add_edge(\"I\", \"J\"),G.add_edge(\"K\", \"L\")\n",
    "# # Draw graph\n",
    "# nx.draw(G, with_labels = True)\n",
    "# plt.show()"
   ]
  },
  {
   "cell_type": "code",
   "execution_count": 7,
   "metadata": {},
   "outputs": [],
   "source": [
    "def WriteToFile(file):\n",
    "    femb_iterative = open(file, 'w')\n",
    "    for (key, value) in context_pairs.items():\n",
    "        femb_iterative.write(key + \" \" + str(value) + \"\\n\" )\n",
    "    femb_iterative.close()"
   ]
  },
  {
   "cell_type": "code",
   "execution_count": 15,
   "metadata": {},
   "outputs": [],
   "source": [
    "def countSum(contextPairs):\n",
    "    countSum = 0\n",
    "    for key, value in contextPairs.items():\n",
    "        countSum += value\n",
    "    print(\"Total value sums up to: \", countSum)"
   ]
  },
  {
   "cell_type": "code",
   "execution_count": 9,
   "metadata": {},
   "outputs": [],
   "source": [
    "def getPerNodeBudget(numNodes, budget):\n",
    "    return math.floor(budget/numNodes)"
   ]
  },
  {
   "cell_type": "code",
   "execution_count": 10,
   "metadata": {},
   "outputs": [],
   "source": [
    "def chooseNodes(list_nodes, n):\n",
    "    return random.sample(population=list_nodes, k=n)"
   ]
  },
  {
   "cell_type": "code",
   "execution_count": 11,
   "metadata": {},
   "outputs": [],
   "source": [
    "def updateContextPairs(context_pair, num_rand_walks_ending_here, context_pairs):\n",
    "    if context_pair not in context_pairs:\n",
    "        context_pairs[context_pair] = num_rand_walks_ending_here\n",
    "    else:\n",
    "        context_pairs[context_pair] = context_pairs[context_pair] +  num_rand_walks_ending_here"
   ]
  },
  {
   "cell_type": "code",
   "execution_count": 22,
   "metadata": {},
   "outputs": [],
   "source": [
    "def BFSRandomWalk(graph, start, queue, context_pairs):\n",
    "    random.seed(1)\n",
    "    while queue:\n",
    "        vertex, budget = queue.pop(0)\n",
    "        vertex_neighbors = [n for n in G.neighbors(vertex)]\n",
    "        num_neighbors = len(vertex_neighbors)\n",
    "        m = getPerNodeBudget(num_neighbors, budget)\n",
    "        remainder = budget - (m * num_neighbors)\n",
    "        chosen_nodes = []\n",
    "        if remainder > 0:\n",
    "            chosen_nodes = chooseNodes(vertex_neighbors, remainder)\n",
    "        for neighbor in vertex_neighbors:\n",
    "            budget_for_this_node = m \n",
    "            if neighbor in chosen_nodes:\n",
    "                budget_for_this_node = budget_for_this_node + 1\n",
    "            num_rand_walks_ending_here =  math.floor(budget_for_this_node * EPSILON) \n",
    "            context_pair = str(start) + \" \" + str(neighbor)\n",
    "            if(num_rand_walks_ending_here > 0):\n",
    "                updateContextPairs(context_pair, num_rand_walks_ending_here, context_pairs)\n",
    "            #remaining_budget = math.floor(budget_for_this_node * (1 - EPSILON))\n",
    "            remaining_budget = budget_for_this_node - num_rand_walks_ending_here\n",
    "            if remaining_budget > 0:\n",
    "                if remaining_budget > 1:\n",
    "                    queue.append((neighbor, remaining_budget))\n",
    "                else:\n",
    "                    randval = random.random()\n",
    "                    if randval < EPSILON:\n",
    "                        queue.append((neighbor, remaining_budget))\n",
    "                    else:\n",
    "                        updateContextPairs(context_pair, 1, context_pairs)"
   ]
  },
  {
   "cell_type": "code",
   "execution_count": 23,
   "metadata": {},
   "outputs": [
    {
     "name": "stdout",
     "output_type": "stream",
     "text": [
      "Running BFS...\n",
      "Total value sums up to:  824960\n",
      "Run in : 188.68268823623657\n"
     ]
    }
   ],
   "source": [
    "start = time.time()\n",
    "\n",
    "context_pairs = {}\n",
    "print(\"Running BFS...\")\n",
    "for startvertex in G:\n",
    "    queue = [(startvertex, NUM_RANDOM_WALKS)]\n",
    "    BFSRandomWalk(G, startvertex, queue, context_pairs)\n",
    "countSum(context_pairs)\n",
    "WriteToFile(embeddingsiterative)\n",
    "\n",
    "end = time.time()\n",
    "result = end - start\n",
    "print(\"Run in :\",result) "
   ]
  },
  {
   "cell_type": "code",
   "execution_count": null,
   "metadata": {},
   "outputs": [],
   "source": [
    "#print(context_pairs)\n",
    "countSum(context_pairs)"
   ]
  },
  {
   "cell_type": "code",
   "execution_count": null,
   "metadata": {},
   "outputs": [],
   "source": []
  }
 ],
 "metadata": {
  "kernelspec": {
   "display_name": "Python 3",
   "language": "python",
   "name": "python3"
  },
  "language_info": {
   "codemirror_mode": {
    "name": "ipython",
    "version": 3
   },
   "file_extension": ".py",
   "mimetype": "text/x-python",
   "name": "python",
   "nbconvert_exporter": "python",
   "pygments_lexer": "ipython3",
   "version": "3.7.6"
  }
 },
 "nbformat": 4,
 "nbformat_minor": 1
}
